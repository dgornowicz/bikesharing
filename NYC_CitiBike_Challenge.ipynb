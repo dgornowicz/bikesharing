{
 "cells": [
  {
   "cell_type": "code",
   "execution_count": 1,
   "metadata": {},
   "outputs": [],
   "source": [
    "import pandas as pd"
   ]
  },
  {
   "cell_type": "code",
   "execution_count": 2,
   "metadata": {},
   "outputs": [
    {
     "data": {
      "text/html": [
       "<div>\n",
       "<style scoped>\n",
       "    .dataframe tbody tr th:only-of-type {\n",
       "        vertical-align: middle;\n",
       "    }\n",
       "\n",
       "    .dataframe tbody tr th {\n",
       "        vertical-align: top;\n",
       "    }\n",
       "\n",
       "    .dataframe thead th {\n",
       "        text-align: right;\n",
       "    }\n",
       "</style>\n",
       "<table border=\"1\" class=\"dataframe\">\n",
       "  <thead>\n",
       "    <tr style=\"text-align: right;\">\n",
       "      <th></th>\n",
       "      <th>tripduration</th>\n",
       "      <th>starttime</th>\n",
       "      <th>stoptime</th>\n",
       "      <th>start station id</th>\n",
       "      <th>start station name</th>\n",
       "      <th>start station latitude</th>\n",
       "      <th>start station longitude</th>\n",
       "      <th>end station id</th>\n",
       "      <th>end station name</th>\n",
       "      <th>end station latitude</th>\n",
       "      <th>end station longitude</th>\n",
       "      <th>bikeid</th>\n",
       "      <th>usertype</th>\n",
       "      <th>birth year</th>\n",
       "      <th>gender</th>\n",
       "    </tr>\n",
       "  </thead>\n",
       "  <tbody>\n",
       "    <tr>\n",
       "      <th>1743746</th>\n",
       "      <td>485</td>\n",
       "      <td>2019-08-23 22:07:37.7710</td>\n",
       "      <td>2019-08-23 22:15:43.0690</td>\n",
       "      <td>3781.0</td>\n",
       "      <td>Greene Av &amp; Myrtle Av</td>\n",
       "      <td>40.698568</td>\n",
       "      <td>-73.918877</td>\n",
       "      <td>3773.0</td>\n",
       "      <td>Knickerbocker Ave &amp; Thames St</td>\n",
       "      <td>40.705390</td>\n",
       "      <td>-73.929760</td>\n",
       "      <td>26802</td>\n",
       "      <td>Subscriber</td>\n",
       "      <td>1985</td>\n",
       "      <td>1</td>\n",
       "    </tr>\n",
       "    <tr>\n",
       "      <th>1533867</th>\n",
       "      <td>3545</td>\n",
       "      <td>2019-08-20 22:19:07.9420</td>\n",
       "      <td>2019-08-20 23:18:13.3020</td>\n",
       "      <td>3711.0</td>\n",
       "      <td>E 13 St &amp; Avenue A</td>\n",
       "      <td>40.729667</td>\n",
       "      <td>-73.980680</td>\n",
       "      <td>3711.0</td>\n",
       "      <td>E 13 St &amp; Avenue A</td>\n",
       "      <td>40.729667</td>\n",
       "      <td>-73.980680</td>\n",
       "      <td>34170</td>\n",
       "      <td>Customer</td>\n",
       "      <td>1995</td>\n",
       "      <td>2</td>\n",
       "    </tr>\n",
       "    <tr>\n",
       "      <th>1765881</th>\n",
       "      <td>393</td>\n",
       "      <td>2019-08-24 11:58:01.7400</td>\n",
       "      <td>2019-08-24 12:04:35.7360</td>\n",
       "      <td>402.0</td>\n",
       "      <td>Broadway &amp; E 22 St</td>\n",
       "      <td>40.740343</td>\n",
       "      <td>-73.989551</td>\n",
       "      <td>379.0</td>\n",
       "      <td>W 31 St &amp; 7 Ave</td>\n",
       "      <td>40.749156</td>\n",
       "      <td>-73.991600</td>\n",
       "      <td>16567</td>\n",
       "      <td>Subscriber</td>\n",
       "      <td>1993</td>\n",
       "      <td>2</td>\n",
       "    </tr>\n",
       "    <tr>\n",
       "      <th>1054816</th>\n",
       "      <td>1257</td>\n",
       "      <td>2019-08-14 18:03:51.2910</td>\n",
       "      <td>2019-08-14 18:24:49.1830</td>\n",
       "      <td>254.0</td>\n",
       "      <td>W 11 St &amp; 6 Ave</td>\n",
       "      <td>40.735324</td>\n",
       "      <td>-73.998004</td>\n",
       "      <td>151.0</td>\n",
       "      <td>Cleveland Pl &amp; Spring St</td>\n",
       "      <td>40.722104</td>\n",
       "      <td>-73.997249</td>\n",
       "      <td>30686</td>\n",
       "      <td>Subscriber</td>\n",
       "      <td>1972</td>\n",
       "      <td>1</td>\n",
       "    </tr>\n",
       "    <tr>\n",
       "      <th>2133803</th>\n",
       "      <td>182</td>\n",
       "      <td>2019-08-29 08:45:27.1430</td>\n",
       "      <td>2019-08-29 08:48:29.4100</td>\n",
       "      <td>539.0</td>\n",
       "      <td>Metropolitan Ave &amp; Bedford Ave</td>\n",
       "      <td>40.715348</td>\n",
       "      <td>-73.960241</td>\n",
       "      <td>3101.0</td>\n",
       "      <td>N 12 St &amp; Bedford Ave</td>\n",
       "      <td>40.720798</td>\n",
       "      <td>-73.954847</td>\n",
       "      <td>16167</td>\n",
       "      <td>Subscriber</td>\n",
       "      <td>1985</td>\n",
       "      <td>1</td>\n",
       "    </tr>\n",
       "  </tbody>\n",
       "</table>\n",
       "</div>"
      ],
      "text/plain": [
       "         tripduration                 starttime                  stoptime  \\\n",
       "1743746           485  2019-08-23 22:07:37.7710  2019-08-23 22:15:43.0690   \n",
       "1533867          3545  2019-08-20 22:19:07.9420  2019-08-20 23:18:13.3020   \n",
       "1765881           393  2019-08-24 11:58:01.7400  2019-08-24 12:04:35.7360   \n",
       "1054816          1257  2019-08-14 18:03:51.2910  2019-08-14 18:24:49.1830   \n",
       "2133803           182  2019-08-29 08:45:27.1430  2019-08-29 08:48:29.4100   \n",
       "\n",
       "         start station id              start station name  \\\n",
       "1743746            3781.0           Greene Av & Myrtle Av   \n",
       "1533867            3711.0              E 13 St & Avenue A   \n",
       "1765881             402.0              Broadway & E 22 St   \n",
       "1054816             254.0                 W 11 St & 6 Ave   \n",
       "2133803             539.0  Metropolitan Ave & Bedford Ave   \n",
       "\n",
       "         start station latitude  start station longitude  end station id  \\\n",
       "1743746               40.698568               -73.918877          3773.0   \n",
       "1533867               40.729667               -73.980680          3711.0   \n",
       "1765881               40.740343               -73.989551           379.0   \n",
       "1054816               40.735324               -73.998004           151.0   \n",
       "2133803               40.715348               -73.960241          3101.0   \n",
       "\n",
       "                      end station name  end station latitude  \\\n",
       "1743746  Knickerbocker Ave & Thames St             40.705390   \n",
       "1533867             E 13 St & Avenue A             40.729667   \n",
       "1765881                W 31 St & 7 Ave             40.749156   \n",
       "1054816       Cleveland Pl & Spring St             40.722104   \n",
       "2133803          N 12 St & Bedford Ave             40.720798   \n",
       "\n",
       "         end station longitude  bikeid    usertype  birth year  gender  \n",
       "1743746             -73.929760   26802  Subscriber        1985       1  \n",
       "1533867             -73.980680   34170    Customer        1995       2  \n",
       "1765881             -73.991600   16567  Subscriber        1993       2  \n",
       "1054816             -73.997249   30686  Subscriber        1972       1  \n",
       "2133803             -73.954847   16167  Subscriber        1985       1  "
      ]
     },
     "execution_count": 2,
     "metadata": {},
     "output_type": "execute_result"
    }
   ],
   "source": [
    "# 1. Create a DataFrame for the 201908-citibike-tripdata data. \n",
    "citibike_data = pd.read_csv('201908-citibike-tripdata.csv')\n",
    "citibike_data.sample(5)"
   ]
  },
  {
   "cell_type": "code",
   "execution_count": 3,
   "metadata": {},
   "outputs": [
    {
     "data": {
      "text/plain": [
       "tripduration                 int64\n",
       "starttime                   object\n",
       "stoptime                    object\n",
       "start station id           float64\n",
       "start station name          object\n",
       "start station latitude     float64\n",
       "start station longitude    float64\n",
       "end station id             float64\n",
       "end station name            object\n",
       "end station latitude       float64\n",
       "end station longitude      float64\n",
       "bikeid                       int64\n",
       "usertype                    object\n",
       "birth year                   int64\n",
       "gender                       int64\n",
       "dtype: object"
      ]
     },
     "execution_count": 3,
     "metadata": {},
     "output_type": "execute_result"
    }
   ],
   "source": [
    "# 2. Check the datatypes of your columns. \n",
    "citibike_data.dtypes"
   ]
  },
  {
   "cell_type": "code",
   "execution_count": 4,
   "metadata": {},
   "outputs": [],
   "source": [
    "# 3. Convert the 'tripduration' column to datetime datatype.\n",
    "citibike_data['tripduration_datetime'] = pd.to_datetime(citibike_data['tripduration'], unit='m')"
   ]
  },
  {
   "cell_type": "code",
   "execution_count": 5,
   "metadata": {},
   "outputs": [
    {
     "data": {
      "text/plain": [
       "tripduration                        int64\n",
       "starttime                          object\n",
       "stoptime                           object\n",
       "start station id                  float64\n",
       "start station name                 object\n",
       "start station latitude            float64\n",
       "start station longitude           float64\n",
       "end station id                    float64\n",
       "end station name                   object\n",
       "end station latitude              float64\n",
       "end station longitude             float64\n",
       "bikeid                              int64\n",
       "usertype                           object\n",
       "birth year                          int64\n",
       "gender                              int64\n",
       "tripduration_datetime      datetime64[ns]\n",
       "dtype: object"
      ]
     },
     "execution_count": 5,
     "metadata": {},
     "output_type": "execute_result"
    }
   ],
   "source": [
    "# 4. Check the datatypes of your columns. \n",
    "citibike_data.dtypes"
   ]
  },
  {
   "cell_type": "code",
   "execution_count": 6,
   "metadata": {},
   "outputs": [],
   "source": [
    "# 5. Export the Dataframe as a new CSV file without the index.\n",
    "citibike_data.to_csv('citibike_data.csv', index=False)"
   ]
  }
 ],
 "metadata": {
  "kernelspec": {
   "display_name": "PythonData",
   "language": "python",
   "name": "pythondata"
  },
  "language_info": {
   "codemirror_mode": {
    "name": "ipython",
    "version": 3
   },
   "file_extension": ".py",
   "mimetype": "text/x-python",
   "name": "python",
   "nbconvert_exporter": "python",
   "pygments_lexer": "ipython3",
   "version": "3.9.12"
  }
 },
 "nbformat": 4,
 "nbformat_minor": 4
}
